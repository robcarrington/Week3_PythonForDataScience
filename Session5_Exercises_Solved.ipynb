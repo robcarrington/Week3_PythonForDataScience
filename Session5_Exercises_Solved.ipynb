{
 "cells": [
  {
   "cell_type": "markdown",
   "metadata": {},
   "source": [
    "# Python for Data Science, Level I\n",
    "### *Session \\#5*\n",
    "---\n",
    "\n",
    "### Helpful shortcuts\n",
    "---\n",
    "\n",
    "**SHIFT** + **ENTER** ----> Execute Cell\n",
    "\n",
    "**TAB** ----> See autocomplete options\n",
    "\n",
    "**ESC** then **b** ----> Create Cell \n",
    "\n",
    "**ESC** then **dd** ----> Delete Cell\n",
    "\n",
    "**\\[python expression\\]?** ---> Explanation of that Python expression\n",
    "\n",
    "**ESC** then **m** then __ENTER__ ----> Switch to Markdown mode"
   ]
  },
  {
   "cell_type": "markdown",
   "metadata": {},
   "source": [
    "## I. Pandas Basics\n",
    "\n",
    "### Warm Ups\n",
    "\n",
    "---\n",
    "\n",
    "**Importing pandas:** `import pandas as pd`"
   ]
  },
  {
   "cell_type": "code",
   "execution_count": 78,
   "metadata": {},
   "outputs": [],
   "source": [
    "import pandas as pd"
   ]
  },
  {
   "cell_type": "markdown",
   "metadata": {},
   "source": [
    "**Dataframe from CSV:** `inspect_df = pd.read_csv(\"restaurant_inspections_nyc.csv\", dtype={\"ZIPCODE\": \"str\"})`\n",
    "\n",
    "*Note: Input string can be a URL or a local file path*"
   ]
  },
  {
   "cell_type": "code",
   "execution_count": null,
   "metadata": {},
   "outputs": [],
   "source": [
    "inspect_df = pd.read_csv(\"restaurant_inspections_nyc.csv\", dtype={\"ZIPCODE\": \"str\"})"
   ]
  },
  {
   "cell_type": "markdown",
   "metadata": {},
   "source": [
    "**See column data types:** `inspect_df.dtypes`"
   ]
  },
  {
   "cell_type": "code",
   "execution_count": null,
   "metadata": {},
   "outputs": [],
   "source": [
    "inspect_df.dtypes"
   ]
  },
  {
   "cell_type": "markdown",
   "metadata": {},
   "source": [
    "**First 5 lines of file:** `inspect_df.head()` "
   ]
  },
  {
   "cell_type": "code",
   "execution_count": null,
   "metadata": {},
   "outputs": [],
   "source": [
    "inspect_df.head()"
   ]
  },
  {
   "cell_type": "markdown",
   "metadata": {},
   "source": [
    "**Boolean indexing on rows:** `inspect_df[(inspect_df['GRADE'] == 'C') & (inspect_df['ZIPCODE'] == '11238')]`"
   ]
  },
  {
   "cell_type": "code",
   "execution_count": null,
   "metadata": {},
   "outputs": [],
   "source": [
    "inspect_df[(inspect_df['GRADE'] == 'C') & (inspect_df['ZIPCODE'] == '11238')]"
   ]
  },
  {
   "cell_type": "markdown",
   "metadata": {},
   "source": [
    "**Frequency of values within a column:** `inspect_df['GRADE'].value_counts()`\n",
    "\n",
    "Note: This [guide to restaurant grading](https://www1.nyc.gov/assets/doh/downloads/pdf/rii/restaurant-grading-faq.pdf) can help with interpreting these numbers"
   ]
  },
  {
   "cell_type": "code",
   "execution_count": null,
   "metadata": {},
   "outputs": [],
   "source": [
    "inspect_df['GRADE'].value_counts()"
   ]
  },
  {
   "cell_type": "markdown",
   "metadata": {},
   "source": [
    "**Aggregate with Numpy functions:** `inspect_df['SCORE'].mean()`"
   ]
  },
  {
   "cell_type": "code",
   "execution_count": null,
   "metadata": {},
   "outputs": [],
   "source": [
    "inspect_df['SCORE'].mean()"
   ]
  },
  {
   "cell_type": "markdown",
   "metadata": {},
   "source": [
    "**Save to CSV:** `inspect_df.to_csv(\"new_file.csv\")`"
   ]
  },
  {
   "cell_type": "code",
   "execution_count": null,
   "metadata": {},
   "outputs": [],
   "source": [
    "inspect_df.to_csv(\"new_file.csv\")"
   ]
  },
  {
   "cell_type": "markdown",
   "metadata": {},
   "source": [
    "## Exercises\n",
    "---\n",
    "\n",
    "**1. Which boro had more** `C` **ratings, Brooklyn or Manhattan?**"
   ]
  },
  {
   "cell_type": "code",
   "execution_count": 93,
   "metadata": {},
   "outputs": [
    {
     "name": "stdout",
     "output_type": "stream",
     "text": [
      "Brooklyn had 2050 C grade inspections\n",
      "Manhattan had 3241 C grade inspections\n"
     ]
    }
   ],
   "source": [
    "c_grade = inspect_df['GRADE'] == \"C\"\n",
    "brooklyn = inspect_df['BORO'] == \"BROOKLYN\"\n",
    "manhattan = inspect_df['BORO'] == \"MANHATTAN\"\n",
    "\n",
    "bk_c_count = len(inspect_df[c_grade & brooklyn])\n",
    "mn_c_count = len(inspect_df[c_grade & manhattan])\n",
    "\n",
    "print(f\"Brooklyn had {bk_c_count} C grade inspections\")\n",
    "print(f\"Manhattan had {mn_c_count} C grade inspections\")"
   ]
  },
  {
   "cell_type": "markdown",
   "metadata": {},
   "source": [
    "**2. What is the average inspection score in your neighborhood? Is it higher or lower than the overall overage?** "
   ]
  },
  {
   "cell_type": "code",
   "execution_count": 96,
   "metadata": {},
   "outputs": [
    {
     "name": "stdout",
     "output_type": "stream",
     "text": [
      "Overall avg: 19.915540853345455 Neighborhood avg: 18.944814462416748\n"
     ]
    }
   ],
   "source": [
    "overall_avg = inspect_df['SCORE'].mean()\n",
    "neighborhood_avg = inspect_df[inspect_df['ZIPCODE'] == '11238']['SCORE'].mean()\n",
    "\n",
    "print(f\"Overall avg: {overall_avg} Neighborhood avg: {neighborhood_avg}\")"
   ]
  },
  {
   "cell_type": "markdown",
   "metadata": {},
   "source": [
    "**3. For inpections resulting in a** `C` **grade, what is the most common violation description?**"
   ]
  },
  {
   "cell_type": "code",
   "execution_count": 100,
   "metadata": {},
   "outputs": [
    {
     "data": {
      "text/plain": [
       "'Facility not vermin proof. Harborage or conditions conducive to attracting vermin to the premises and/or allowing vermin to exist.'"
      ]
     },
     "execution_count": 100,
     "metadata": {},
     "output_type": "execute_result"
    }
   ],
   "source": [
    "c_grade = inspect_df['GRADE'] == \"C\"\n",
    "inspect_df[c_grade]['VIOLATION DESCRIPTION'].value_counts().index[0]"
   ]
  },
  {
   "cell_type": "markdown",
   "metadata": {},
   "source": [
    "**4. For inspections resulting in a** `A` **grade, what is the most common ZIP code?**"
   ]
  },
  {
   "cell_type": "code",
   "execution_count": 102,
   "metadata": {},
   "outputs": [
    {
     "data": {
      "text/plain": [
       "'10019'"
      ]
     },
     "execution_count": 102,
     "metadata": {},
     "output_type": "execute_result"
    }
   ],
   "source": [
    "a_grade = inspect_df['GRADE'] == \"A\"\n",
    "inspect_df[a_grade]['ZIPCODE'].value_counts().index[0]"
   ]
  },
  {
   "cell_type": "markdown",
   "metadata": {},
   "source": [
    "### Extra Credit\n",
    "---\n",
    "**1. Which type of restaurant had a worse inspection score on average -- restaurants with a** `CUISINE DESCRIPTION` **of** `'Donuts'` **or** `'Juice, Smoothies, Fruit Salads'`**?**"
   ]
  },
  {
   "cell_type": "code",
   "execution_count": 106,
   "metadata": {},
   "outputs": [
    {
     "name": "stdout",
     "output_type": "stream",
     "text": [
      "Donut shop avg score: 13.54\n",
      "Juice shop avg score: 18.95\n"
     ]
    }
   ],
   "source": [
    "donuts = inspect_df['CUISINE DESCRIPTION'] == 'Donuts'\n",
    "juice = inspect_df['CUISINE DESCRIPTION'] == 'Juice, Smoothies, Fruit Salads'\n",
    "\n",
    "donut_score = inspect_df[donuts]['SCORE'].mean()\n",
    "juice_score = inspect_df[juice]['SCORE'].mean()\n",
    "\n",
    "print(f\"Donut shop avg score: {round(donut_score,2)}\")\n",
    "print(f\"Juice shop avg score: {round(juice_score,2)}\")"
   ]
  },
  {
   "cell_type": "markdown",
   "metadata": {},
   "source": [
    "## II. Combining Data\n",
    "\n",
    "\n",
    "### Warm Ups\n",
    "---\n",
    "\n",
    "**Dataframe from Excel**: `kick_df = pd.read_excel(\"kickstarter.xlsx\", sheet_name=\"most_backed\")`"
   ]
  },
  {
   "cell_type": "code",
   "execution_count": 107,
   "metadata": {},
   "outputs": [],
   "source": [
    "kick_df = pd.read_excel(\"kickstarter.xlsx\", sheet_name=\"most_backed\")"
   ]
  },
  {
   "cell_type": "markdown",
   "metadata": {},
   "source": [
    "**Create new column:** `kick_df['min_pledge'] = kick_df['amt.pledged'] / kick_df['num.backers']`"
   ]
  },
  {
   "cell_type": "code",
   "execution_count": 108,
   "metadata": {},
   "outputs": [],
   "source": [
    "kick_df['min_pledge'] = kick_df['amt.pledged'] / kick_df['num.backers']"
   ]
  },
  {
   "cell_type": "markdown",
   "metadata": {},
   "source": [
    "**Create a dataframe by selecting columns:** `loc_and_amt = kick_df[['location', 'amt.pledged']]`"
   ]
  },
  {
   "cell_type": "code",
   "execution_count": null,
   "metadata": {},
   "outputs": [],
   "source": []
  },
  {
   "cell_type": "markdown",
   "metadata": {},
   "source": [
    "**Group by a column:** `loc_and_amt.groupby('location').sum()`"
   ]
  },
  {
   "cell_type": "code",
   "execution_count": null,
   "metadata": {},
   "outputs": [],
   "source": []
  },
  {
   "cell_type": "markdown",
   "metadata": {},
   "source": [
    "**Sort dataframe ascending/descending based on column:** `kick_df.sort_values('num.backers')` **or** `kick_df.sort_values('num.backers', ascending=False)`"
   ]
  },
  {
   "cell_type": "code",
   "execution_count": null,
   "metadata": {},
   "outputs": [],
   "source": []
  },
  {
   "cell_type": "markdown",
   "metadata": {},
   "source": [
    "**Save to Excel:** `kick_df.to_excel(\"new_kickstarter.xlsx\", sheet_name=\"most_backed\")`"
   ]
  },
  {
   "cell_type": "code",
   "execution_count": null,
   "metadata": {},
   "outputs": [],
   "source": []
  },
  {
   "cell_type": "markdown",
   "metadata": {},
   "source": [
    "### Exercises\n",
    "---\n",
    "**1. Add a new column** `dollars_per_backer` **tracking the amount of fundraising per backer. First filter to only use campaigns with** `usd` **as their currency.**"
   ]
  },
  {
   "cell_type": "code",
   "execution_count": 109,
   "metadata": {},
   "outputs": [],
   "source": [
    "new_df = kick_df[kick_df.currency == \"usd\"].copy()\n",
    "\n",
    "new_df['dollars_per_backer'] = new_df['amt.pledged'] / new_df['num.backers']"
   ]
  },
  {
   "cell_type": "markdown",
   "metadata": {},
   "source": [
    "**2. What was the campaign with the largest amount of fundraising per backer? The smallest amount?**"
   ]
  },
  {
   "cell_type": "code",
   "execution_count": 140,
   "metadata": {},
   "outputs": [
    {
     "name": "stdout",
     "output_type": "stream",
     "text": [
      "Max per backer: Where Art Thou, Romeo?\n",
      "Min per backer: SpeedX Leopard | the first ever smart aero road bike\n"
     ]
    }
   ],
   "source": [
    "backers = new_df.sort_values('dollars_per_backer')\n",
    "\n",
    "print(f\"Max per backer: {backers.iloc[0]['title']}\")\n",
    "print(f\"Min per backer: {backers.iloc[-1]['title']}\")\n"
   ]
  },
  {
   "cell_type": "markdown",
   "metadata": {},
   "source": [
    "**3. Which categories raised the largest amounts of money on average? The least?**"
   ]
  },
  {
   "cell_type": "code",
   "execution_count": 146,
   "metadata": {},
   "outputs": [
    {
     "name": "stdout",
     "output_type": "stream",
     "text": [
      "Category with smallest avg funding: Music Videos\n",
      "Category with largest avg funding: Television\n"
     ]
    }
   ],
   "source": [
    "category_avg_raised = new_df.groupby('category')['amt.pledged'].mean().sort_values()\n",
    "\n",
    "print(\"Category with smallest avg funding: \" + category_avg_raised.index[0])\n",
    "print(\"Category with largest avg funding: \" + category_avg_raised.index[-1])"
   ]
  },
  {
   "cell_type": "markdown",
   "metadata": {},
   "source": [
    "**4. What was the average ratio between amount pledged and the funding goal in each category?**"
   ]
  },
  {
   "cell_type": "code",
   "execution_count": 158,
   "metadata": {},
   "outputs": [
    {
     "data": {
      "text/plain": [
       "category\n",
       "3D Printing               16.851171\n",
       "Academic                   1.219653\n",
       "Accessories               15.460622\n",
       "Action                     3.150095\n",
       "Animation                  2.611470\n",
       "Anthologies                3.096457\n",
       "Apparel                   13.091547\n",
       "Apps                      75.242004\n",
       "Architecture               3.283888\n",
       "Art                        2.596699\n",
       "Art Books                 11.848971\n",
       "Audio                      1.178783\n",
       "Calendars                  5.901196\n",
       "Camera Equipment          11.326773\n",
       "Children's Books          12.757324\n",
       "Childrenswear              3.859789\n",
       "Chiptune                   7.952060\n",
       "Civic Design               1.307194\n",
       "Classical Music            5.242474\n",
       "Comedy                     3.268463\n",
       "Comic Books                4.647347\n",
       "Comics                     8.487961\n",
       "Conceptual Art             1.269820\n",
       "Cookbooks                  4.768636\n",
       "Country &amp; Folk         1.509299\n",
       "Crafts                     9.796588\n",
       "DIY Electronics           19.218261\n",
       "Dance                      1.168600\n",
       "Design                    13.708701\n",
       "Digital Art               14.266800\n",
       "                           ...     \n",
       "Radio &amp; Podcasts    2097.643040\n",
       "Ready-to-wear             49.702400\n",
       "Restaurants                1.245715\n",
       "Robots                    34.844925\n",
       "Rock                       2.958889\n",
       "Romance                    1.210840\n",
       "Science Fiction            2.866813\n",
       "Sculpture                 14.842427\n",
       "Shorts                     2.950996\n",
       "Small Batch                7.953704\n",
       "Software                   6.570933\n",
       "Sound                     11.192108\n",
       "Space Exploration          3.563408\n",
       "Spaces                     1.032880\n",
       "Stationery                 3.144333\n",
       "Tabletop Games            19.321287\n",
       "Technology                10.481714\n",
       "Television                 2.882115\n",
       "Theater                    2.017451\n",
       "Thrillers                  1.290360\n",
       "Typography                21.316688\n",
       "Vegan                      2.850879\n",
       "Video                      1.135680\n",
       "Video Games              104.137018\n",
       "Wearables                  9.308659\n",
       "Web                        2.536513\n",
       "Webcomics                  7.076802\n",
       "Webseries                  3.358789\n",
       "World Music                5.360392\n",
       "Zines                      6.043100\n",
       "Name: ratio, Length: 114, dtype: float64"
      ]
     },
     "execution_count": 158,
     "metadata": {},
     "output_type": "execute_result"
    }
   ],
   "source": [
    "new_df['ratio'] = new_df['amt.pledged'] / new_df['goal']\n",
    "new_df.groupby('category')['ratio'].mean()"
   ]
  },
  {
   "cell_type": "markdown",
   "metadata": {},
   "source": [
    "### Extra Credit\n",
    "---\n",
    "**1. If you were hired as a Kickstarter consultant, what are some recommendations you would give to someone looking to have a successful campaign?**\n",
    "\n",
    "**There is another sheet in the .xlsx file named** `\"live\"` **which contains a sample of currently running campaigns, so you can compare successful campaigns to a mix of average ones.**"
   ]
  },
  {
   "cell_type": "code",
   "execution_count": 227,
   "metadata": {},
   "outputs": [
    {
     "name": "stdout",
     "output_type": "stream",
     "text": [
      "Average proportion of CA campaigns: 0.1305\n",
      "Proportion of most successful campaigns from CA: 0.2365\n",
      "Average proportion of campaigns mentioning phone: 0.0135\n",
      "Proportion of most successful campaigns mentioning phone: 0.05\n"
     ]
    }
   ],
   "source": [
    "live_df = pd.read_excel(\"kickstarter.xlsx\", sheet_name=\"live\")\n",
    "\n",
    "live_percent_ca = live_df.location.str.endswith(\"CA\").sum() / len(live_df)\n",
    "best_percent_ca = kick_df.location.str.endswith(\"CA\").sum() / len(kick_df)\n",
    "\n",
    "print(f\"Average proportion of CA campaigns: {live_percent_ca}\" )\n",
    "print(f\"Proportion of most successful campaigns from CA: {best_percent_ca}\")\n",
    "\n",
    "# 1. Go where successful campaigns historically happen: California\n",
    "\n",
    "# Campaigns from California make up a disproportional amount of the most successful campaigns on Kickstarter. \n",
    "# There could be several explanations -- perhaps wealthy funders are more likely to be from California\n",
    "# and favor local projects, or perhaps access to actors makes for better marketing. Either way, go where conditions\n",
    "# are favorable.\n",
    "\n",
    "live_percent_price = live_df.blurb.str.contains(\"phone\").sum() / len(live_df)\n",
    "best_percent_price = kick_df.blurb.str.contains(\"phone\").sum() / len(kick_df)\n",
    "\n",
    "print(f\"Average proportion of campaigns mentioning phone: {live_percent_price}\" )\n",
    "print(f\"Proportion of most successful campaigns mentioning phone: {best_percent_price}\")\n",
    "\n",
    "# 2. Highly successful Kickstarter projects are much more likely to be phone-related than average. \n",
    "#\n",
    "# Perhaps because people are using their smartphones for an increasing fraction of the day,\n",
    "# products that explicitly mention phones are disproportionately represented among the most\n",
    "# successful campaigns on Kickstarter. This niche is almost four times larger in the set of \n",
    "# most successful campaigns compared to the average."
   ]
  },
  {
   "cell_type": "markdown",
   "metadata": {},
   "source": [
    "## III. Strings and NaNs\n",
    "\n",
    "\n",
    "### Warm Ups\n",
    "---\n",
    "\n",
    "**Contains string:** `kick_df['blurb'].str.contains('new')`"
   ]
  },
  {
   "cell_type": "code",
   "execution_count": null,
   "metadata": {},
   "outputs": [],
   "source": []
  },
  {
   "cell_type": "markdown",
   "metadata": {},
   "source": [
    "**Replace:** `kick_df['blurb'] = kick_df['blurb'].str.replace(\"\\n\", \"\")`"
   ]
  },
  {
   "cell_type": "code",
   "execution_count": null,
   "metadata": {},
   "outputs": [],
   "source": []
  },
  {
   "cell_type": "markdown",
   "metadata": {},
   "source": [
    "**Starts/ends with:** `kick_df['blurb'].str.startswith(\"The\")` or `kick_df['blurb'].str.endswith(\"help!\")`"
   ]
  },
  {
   "cell_type": "code",
   "execution_count": null,
   "metadata": {},
   "outputs": [],
   "source": []
  },
  {
   "cell_type": "markdown",
   "metadata": {},
   "source": [
    "**Select rows with NaN in GRADE column:** `inspect_df[inspect_df['GRADE'].isnull()]`"
   ]
  },
  {
   "cell_type": "code",
   "execution_count": null,
   "metadata": {},
   "outputs": [],
   "source": []
  },
  {
   "cell_type": "markdown",
   "metadata": {},
   "source": [
    "**Select rows with non-NaN values in GRADE column:** `inspect_df[inspect_df['GRADE'].notnull()]` "
   ]
  },
  {
   "cell_type": "code",
   "execution_count": null,
   "metadata": {},
   "outputs": [],
   "source": []
  },
  {
   "cell_type": "markdown",
   "metadata": {},
   "source": [
    "**Fill all NaN values in a column:** `inspect_df['GRADE'].fillna('NOT RATED')`"
   ]
  },
  {
   "cell_type": "code",
   "execution_count": null,
   "metadata": {},
   "outputs": [],
   "source": []
  },
  {
   "cell_type": "markdown",
   "metadata": {},
   "source": [
    "### Exercises\n",
    "---\n",
    "**1. How many restaurants in Brooklyn have had inspections with a missing GRADE?**"
   ]
  },
  {
   "cell_type": "code",
   "execution_count": 152,
   "metadata": {},
   "outputs": [
    {
     "data": {
      "text/plain": [
       "124953"
      ]
     },
     "execution_count": 152,
     "metadata": {},
     "output_type": "execute_result"
    }
   ],
   "source": [
    "len(inspect_df[inspect_df['GRADE'].isnull()])"
   ]
  },
  {
   "cell_type": "markdown",
   "metadata": {},
   "source": [
    "**2. What percentage of kickstarter campaign blurbs contain the word** `family` **?**"
   ]
  },
  {
   "cell_type": "code",
   "execution_count": 151,
   "metadata": {},
   "outputs": [
    {
     "data": {
      "text/plain": [
       "0.00675"
      ]
     },
     "execution_count": 151,
     "metadata": {},
     "output_type": "execute_result"
    }
   ],
   "source": [
    "rows_with_family = kick_df[kick_df['blurb'].str.contains(\"family\")]\n",
    "len(rows_with_family)/len(kick_df)"
   ]
  },
  {
   "cell_type": "markdown",
   "metadata": {},
   "source": [
    "**3. How many McDonalds have received a** `C` **grade from DOHMH?**"
   ]
  },
  {
   "cell_type": "code",
   "execution_count": null,
   "metadata": {},
   "outputs": [],
   "source": [
    "mcd = inspect_df[inspect_df['DBA'].]"
   ]
  },
  {
   "cell_type": "markdown",
   "metadata": {},
   "source": [
    "**4. What is the average inspection score for restaurants with names that start or end with** `CAFE` **?**"
   ]
  },
  {
   "cell_type": "code",
   "execution_count": 154,
   "metadata": {},
   "outputs": [
    {
     "data": {
      "text/plain": [
       "20.01741031662483"
      ]
     },
     "execution_count": 154,
     "metadata": {},
     "output_type": "execute_result"
    }
   ],
   "source": [
    "start = inspect_df['DBA'].str.startswith(\"CAFE\")\n",
    "end = inspect_df['DBA'].str.endswith(\"CAFE\")\n",
    "\n",
    "inspect_df[start | end]['SCORE'].mean()"
   ]
  },
  {
   "cell_type": "markdown",
   "metadata": {},
   "source": [
    "### Extra Credit\n",
    "---\n",
    "\n",
    "**1. Many restaurants without a grade were given an inspection score, which can be used to derive a grade. Those that get 0 and 13 points earn an A, those with 14 to 27 points receive a B and those with 28\n",
    "or more a C.**\n",
    "\n",
    "**Use boolean indexing to fill in those missing grades that can be derived.**"
   ]
  },
  {
   "cell_type": "code",
   "execution_count": 162,
   "metadata": {},
   "outputs": [],
   "source": [
    "nulls = inspect_df['GRADE'].isnull()\n",
    "a_score = inspect_df['SCORE'] <= 13\n",
    "b_score = (14 <= inspect_df['SCORE']) & (inspect_df['SCORE'] <= 27)\n",
    "c_score = 28 <= inspect_df['SCORE']\n",
    "\n",
    "inspect_df.loc[nulls & a_score, 'GRADE'] = 'A'\n",
    "inspect_df.loc[nulls & b_score, 'GRADE'] = 'B'\n",
    "inspect_df.loc[nulls & c_score, 'GRADE'] = 'C'"
   ]
  },
  {
   "cell_type": "markdown",
   "metadata": {},
   "source": [
    "## IV. Timeseries Data\n",
    "---\n",
    "\n",
    "### Warm Ups"
   ]
  },
  {
   "cell_type": "markdown",
   "metadata": {},
   "source": [
    "**Read CSV with data column as index:** `stock_df = pd.read_csv(\"stock_closing_prices_2017.csv\", parse_dates=['Date'], index_col='Date')`"
   ]
  },
  {
   "cell_type": "code",
   "execution_count": 11,
   "metadata": {},
   "outputs": [],
   "source": [
    "stock_df = pd.read_csv(\"stock_closing_prices_2017.csv\", parse_dates=['Date'], index_col='Date')"
   ]
  },
  {
   "cell_type": "markdown",
   "metadata": {},
   "source": [
    "**See summary statistics:** `stock_df.describe()`"
   ]
  },
  {
   "cell_type": "code",
   "execution_count": 77,
   "metadata": {},
   "outputs": [
    {
     "data": {
      "text/plain": [
       "'AMZN'"
      ]
     },
     "execution_count": 77,
     "metadata": {},
     "output_type": "execute_result"
    }
   ],
   "source": []
  },
  {
   "cell_type": "markdown",
   "metadata": {},
   "source": [
    "**Compute correlation between columns:** `stock_df.corr()`"
   ]
  },
  {
   "cell_type": "code",
   "execution_count": null,
   "metadata": {},
   "outputs": [],
   "source": []
  },
  {
   "cell_type": "markdown",
   "metadata": {},
   "source": [
    "**Get year/month/day with partial string index:** `df['2017']` or `df['2017-02']` or `df['2017-02-01']`"
   ]
  },
  {
   "cell_type": "code",
   "execution_count": null,
   "metadata": {},
   "outputs": [],
   "source": []
  },
  {
   "cell_type": "markdown",
   "metadata": {},
   "source": [
    "**Use an explicit or implicit index:** `stock_df.loc['2017']` or `stock_df.iloc[3]`"
   ]
  },
  {
   "cell_type": "code",
   "execution_count": null,
   "metadata": {},
   "outputs": [],
   "source": []
  },
  {
   "cell_type": "markdown",
   "metadata": {},
   "source": [
    "**Create a basic plot of two column:** `stock_df[['VZ', 'GS']].plot()`"
   ]
  },
  {
   "cell_type": "code",
   "execution_count": 39,
   "metadata": {},
   "outputs": [
    {
     "data": {
      "image/png": "[encoded data removed]",
      "text/plain": [
       "<Figure size 432x288 with 1 Axes>"
      ]
     },
     "metadata": {
      "needs_background": "light"
     },
     "output_type": "display_data"
    }
   ],
   "source": []
  },
  {
   "cell_type": "markdown",
   "metadata": {},
   "source": [
    "### Exercises\n",
    "---\n",
    "**1. Which stock was most correlated with AAPL over 2017? Least correlated?**"
   ]
  },
  {
   "cell_type": "code",
   "execution_count": 117,
   "metadata": {},
   "outputs": [
    {
     "name": "stdout",
     "output_type": "stream",
     "text": [
      "Most correlated: MSFT\n",
      "Least correlated: VZ\n"
     ]
    }
   ],
   "source": [
    "aapl_corr = stock_df.corr()['AAPL'].sort_values(ascending=False)\n",
    "most_corr = aapl_corr.index[1]\n",
    "least_corr = aapl_corr.index[-1]\n",
    "\n",
    "\n",
    "print(f\"Most correlated: {most_corr}\")\n",
    "print(f\"Least correlated: {least_corr}\")"
   ]
  },
  {
   "cell_type": "markdown",
   "metadata": {},
   "source": [
    "**2. Create a plot of these three stocks.**"
   ]
  },
  {
   "cell_type": "code",
   "execution_count": 119,
   "metadata": {},
   "outputs": [
    {
     "data": {
      "text/plain": [
       "<matplotlib.axes._subplots.AxesSubplot at 0x10d9c5390>"
      ]
     },
     "execution_count": 119,
     "metadata": {},
     "output_type": "execute_result"
    },
    {
     "data": {
      "image/png": "[encoded data removed]",
      "text/plain": [
       "<Figure size 432x288 with 1 Axes>"
      ]
     },
     "metadata": {
      "needs_background": "light"
     },
     "output_type": "display_data"
    }
   ],
   "source": [
    "stock_df[['VZ', \"MSFT\", \"AAPL\"]].plot()"
   ]
  },
  {
   "cell_type": "markdown",
   "metadata": {},
   "source": [
    "**3. You can use slices on timeseries data too:** `stock_df[:\"2017-06\"]`\n",
    "\n",
    "**Note that the final item is included in an explicit index. Which three-month quarter of the year did AAPL have its highest average price?**"
   ]
  },
  {
   "cell_type": "code",
   "execution_count": 124,
   "metadata": {},
   "outputs": [
    {
     "name": "stdout",
     "output_type": "stream",
     "text": [
      "Avg price for Q1 was: 131.71241935483872\n",
      "Avg price for Q2 was: 147.87539682539685\n",
      "Avg price for Q3 was: 155.16904761904763\n",
      "Avg price for Q4 was: 167.14825396825398\n"
     ]
    }
   ],
   "source": [
    "q1 = stock_df['AAPL'][:'2017-03'].mean()\n",
    "q2 = stock_df['AAPL']['2017-04':'2017-06'].mean()\n",
    "q3 = stock_df['AAPL']['2017-07':'2017-09'].mean()\n",
    "q4 = stock_df['AAPL']['2017-10':].mean()\n",
    "\n",
    "avg_price = [q1, q2, q3, q4]\n",
    "\n",
    "for i in range(4):\n",
    "    print(f\"Avg price for Q{i+1} was: {avg_price[i]}\")"
   ]
  },
  {
   "cell_type": "markdown",
   "metadata": {},
   "source": [
    "**4. If you could only buy/sell once in 2017, which stock should you have traded?**\n",
    "\n",
    "Hint: You can use .describe() or Numpy functions"
   ]
  },
  {
   "cell_type": "code",
   "execution_count": 110,
   "metadata": {},
   "outputs": [
    {
     "data": {
      "text/plain": [
       "'AMZN'"
      ]
     },
     "execution_count": 110,
     "metadata": {},
     "output_type": "execute_result"
    }
   ],
   "source": [
    "stats = stock_df.describe()\n",
    "differences = stats.loc['max'] - stats.loc[\"min\"]\n",
    "differences.idxmax()"
   ]
  },
  {
   "cell_type": "code",
   "execution_count": 125,
   "metadata": {},
   "outputs": [],
   "source": [
    "import matplotlib.pyplot as plt\n",
    "\n",
    "def create_graph(symbol_list):\n",
    "    smaller_df = stock_df[symbol_list]\n",
    "    smaller_df.plot()\n",
    "    plt.savefig(\",\".join(symbol_list)+\".pdf\")"
   ]
  },
  {
   "cell_type": "code",
   "execution_count": 126,
   "metadata": {},
   "outputs": [
    {
     "data": {
      "image/png": "[encoded data removed]",
      "text/plain": [
       "<Figure size 432x288 with 1 Axes>"
      ]
     },
     "metadata": {
      "needs_background": "light"
     },
     "output_type": "display_data"
    }
   ],
   "source": [
    "create_graph([\"AAPL\", \"MSFT\"])"
   ]
  }
 ],
 "metadata": {
  "kernelspec": {
   "display_name": "Python 3",
   "language": "python",
   "name": "python3"
  },
  "language_info": {
   "codemirror_mode": {
    "name": "ipython",
    "version": 3
   },
   "file_extension": ".py",
   "mimetype": "text/x-python",
   "name": "python",
   "nbconvert_exporter": "python",
   "pygments_lexer": "ipython3",
   "version": "3.6.8"
  }
 },
 "nbformat": 4,
 "nbformat_minor": 2
}
